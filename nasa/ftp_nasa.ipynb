{
 "cells": [
  {
   "cell_type": "code",
   "execution_count": 1,
   "metadata": {},
   "outputs": [],
   "source": [
    "from ftplib import FTP\n",
    "import os"
   ]
  },
  {
   "cell_type": "code",
   "execution_count": 2,
   "metadata": {},
   "outputs": [],
   "source": [
    "def rinex(ftp: FTP):\n",
    "    hours = ['00', '01', '02', '03', '04', '05', '06', '07', '08', '09', '10', '11', '12', '13', '14', '15', '16', '17', '18', '19', '20', '21', '22', '23']\n",
    "\n",
    "    ftp.cwd('/gnss/data/')\n",
    "    rinex_type = input('Rinex type (n - nav, o - obs etc.): ')\n",
    "    observation_type = input('Daily or hourly? ')\n",
    "    year = input('Year: ')\n",
    "    gps_day = input('GPS day: ')\n",
    "    ftp.cwd(f'{observation_type.lower()}/{year}/{gps_day}')\n",
    "    igs_station = input('IGS station')\n",
    "\n",
    "    if observation_type.lower() == 'hourly':\n",
    "        try:\n",
    "            os.makedirs(f'Documents/rinex/{year}/{gps_day}/{igs_station}/{observation_type}/')\n",
    "        except:\n",
    "            print(f'Folder: Documents/rinex/{year}/{gps_day}/{igs_station}/{observation_type}/ already exists')\n",
    "        \n",
    "        for h in hours:\n",
    "            ftp.cwd(h)\n",
    "            list_files = ftp.nlst()\n",
    "            for file in list_files:\n",
    "                if file.startswith(igs_station) and file.endswith(f'{year[-2:]}{rinex_type}.Z'):\n",
    "                    print(file)\n",
    "                    cert_file = file\n",
    "                    break\n",
    "\n",
    "            ftp.retrbinary(\n",
    "                f'RETR {cert_file}',\n",
    "                open(f'Documents/rinex/{year}/{gps_day}/{igs_station}/{observation_type}/{cert_file}', 'wb').write\n",
    "            )\n",
    "            \n",
    "    \n",
    "    elif observation_type.lower() == 'daily':\n",
    "        try:\n",
    "            os.makedirs(f'Documents/rinex/{year}/{gps_day}/{igs_station}/{observation_type}/')\n",
    "        except:\n",
    "            print(f'Folder: Documents/rinex/{year}/{gps_day}/{igs_station}/{observation_type}/ already exists')\n",
    "        \n",
    "        ftp.cwd(f'{year[-2:]}{rinex_type}')\n",
    "        list_files = ftp.nlst()\n",
    "        for file in list_files:\n",
    "#             import ipdb; ipdb.set_trace()\n",
    "            if file.startswith(igs_station) and file.endswith(f'{year[-2:]}{rinex_type}.Z'):\n",
    "                print(file)\n",
    "                cert_file = file\n",
    "                break\n",
    "        ftp.retrbinary(\n",
    "            f'RETR {cert_file}',\n",
    "            open(f'Documents/rinex/{year}/{gps_day}/{igs_station}/{observation_type}/{cert_file}', 'wb').write\n",
    "        )\n"
   ]
  },
  {
   "cell_type": "code",
   "execution_count": 3,
   "metadata": {},
   "outputs": [],
   "source": [
    "def sp3(ftp):\n",
    "    gps_week = input('GPS week: ')\n",
    "    gps_day = input('Day on gps week (0-6): ')\n",
    "\n",
    "    ftp.cwd(f'/gnss/products/{gps_week}')\n",
    "    product = input('Product (igs, igr, igu): ')\n",
    "    if product == 'igu':\n",
    "        hour = input('Two digit hour: ')\n",
    "    \n",
    "    search_filename = f'{product}{gps_week}{gps_day}.sp3.Z' if product != 'igu' else f'{product}{gps_week}{gps_day}_{hour}.sp3.Z'\n",
    "    \n",
    "    try:\n",
    "        os.makedirs(f'Documents/sp3/{gps_week}/{gps_day}/')\n",
    "    except:\n",
    "        print(f'Folder: Documents/sp3/{gps_week}/{gps_day}/ already exists')\n",
    "    \n",
    "    list_files = ftp.nlst()\n",
    "    for file in list_files:\n",
    "        if file.lower() == search_filename.lower():\n",
    "            print(file)\n",
    "            cert_file = file\n",
    "            break\n",
    "    \n",
    "    ftp.retrbinary(\n",
    "        f'RETR {cert_file}',\n",
    "        open(f'Documents/sp3/{gps_week}/{gps_day}/{cert_file}', 'wb').write\n",
    "    )"
   ]
  },
  {
   "cell_type": "code",
   "execution_count": 5,
   "metadata": {
    "tags": []
   },
   "outputs": [
    {
     "name": "stdin",
     "output_type": "stream",
     "text": [
      "File type (SP3 or Rinex):  sp3\n",
      "GPS week:  2107\n",
      "Day on gps week (0-6):  5\n",
      "Product (igs, igr, igu):  igs\n"
     ]
    },
    {
     "name": "stdout",
     "output_type": "stream",
     "text": [
      "igs21075.sp3.Z\n"
     ]
    }
   ],
   "source": [
    "ftp = FTP('cddis.nasa.gov')\n",
    "ftp.login()\n",
    "\n",
    "file_type = input('File type (SP3 or Rinex): ')\n",
    "\n",
    "if file_type.lower() == 'rinex':\n",
    "    rinex(ftp)\n",
    "elif file_type.lower() == 'sp3':\n",
    "    sp3(ftp)\n",
    "else:\n",
    "    print('Invalid file type')"
   ]
  },
  {
   "cell_type": "code",
   "execution_count": null,
   "metadata": {},
   "outputs": [],
   "source": []
  }
 ],
 "metadata": {
  "kernelspec": {
   "display_name": "Python 3",
   "language": "python",
   "name": "python3"
  },
  "language_info": {
   "codemirror_mode": {
    "name": "ipython",
    "version": 3
   },
   "file_extension": ".py",
   "mimetype": "text/x-python",
   "name": "python",
   "nbconvert_exporter": "python",
   "pygments_lexer": "ipython3",
   "version": "3.8.5"
  }
 },
 "nbformat": 4,
 "nbformat_minor": 4
}
